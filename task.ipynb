{
 "cells": [
  {
   "cell_type": "code",
   "execution_count": 4,
   "metadata": {},
   "outputs": [],
   "source": [
    "\n",
    "import requests\n",
    "from bs4 import BeautifulSoup\n",
    "import csv"
   ]
  },
  {
   "cell_type": "code",
   "execution_count": 5,
   "metadata": {},
   "outputs": [],
   "source": [
    "url='https://www.baraasallout.com/test.html'\n",
    "response=requests.get(url)\n"
   ]
  },
  {
   "cell_type": "code",
   "execution_count": 6,
   "metadata": {},
   "outputs": [],
   "source": [
    "soup=BeautifulSoup(response.text,'html.parser')"
   ]
  },
  {
   "cell_type": "markdown",
   "metadata": {},
   "source": [
    "2. Extract Text Data: ()\n",
    "Extract all headings (<h1>, <h2>).\n",
    "Extract all text content inside <p> and <li> tags\n",
    "Save this data into a Extract_Text_Data.CSV file."
   ]
  },
  {
   "cell_type": "code",
   "execution_count": 7,
   "metadata": {},
   "outputs": [],
   "source": [
    "data=[]\n",
    "for heading in soup.find_all(['h1','h2']):\n",
    "    data.append(['Heading',heading.get_text(strip=True)])"
   ]
  },
  {
   "cell_type": "code",
   "execution_count": 8,
   "metadata": {},
   "outputs": [
    {
     "data": {
      "text/plain": [
       "[['Heading', 'Web Scraping Practice'],\n",
       " ['Heading', 'Available Products'],\n",
       " ['Heading', 'Product Table'],\n",
       " ['Heading', 'Watch This Video'],\n",
       " ['Heading', 'Contact Us'],\n",
       " ['Heading', 'Product Information'],\n",
       " ['Heading', 'Featured Products']]"
      ]
     },
     "execution_count": 8,
     "metadata": {},
     "output_type": "execute_result"
    }
   ],
   "source": [
    "data"
   ]
  },
  {
   "cell_type": "code",
   "execution_count": 9,
   "metadata": {},
   "outputs": [],
   "source": [
    "for paragraph in soup.find_all('p'):\n",
    "    data.append(['paragraph',paragraph.get_text(strip=True)])"
   ]
  },
  {
   "cell_type": "code",
   "execution_count": 10,
   "metadata": {},
   "outputs": [
    {
     "data": {
      "text/plain": [
       "[['Heading', 'Web Scraping Practice'],\n",
       " ['Heading', 'Available Products'],\n",
       " ['Heading', 'Product Table'],\n",
       " ['Heading', 'Watch This Video'],\n",
       " ['Heading', 'Contact Us'],\n",
       " ['Heading', 'Product Information'],\n",
       " ['Heading', 'Featured Products'],\n",
       " ['paragraph',\n",
       "  'Welcome to the web scraping task! Use your skills to extract the required data from this page.'],\n",
       " ['paragraph', 'Sharp Objects'],\n",
       " ['paragraph', '£47.82'],\n",
       " ['paragraph', '✔ In stock'],\n",
       " ['paragraph', 'In a Dark, Dark Wood'],\n",
       " ['paragraph', '£19.63'],\n",
       " ['paragraph', '✔ In stock'],\n",
       " ['paragraph', 'The Past Never Ends'],\n",
       " ['paragraph', '£56.50'],\n",
       " ['paragraph', '✔ In stock'],\n",
       " ['paragraph', 'A Murder in Time'],\n",
       " ['paragraph', '£16.64'],\n",
       " ['paragraph', 'Out stock'],\n",
       " ['paragraph', 'Wireless Headphones'],\n",
       " ['paragraph', '$49.99'],\n",
       " ['paragraph', 'Available colors: Black, White, Blue'],\n",
       " ['paragraph', 'Smart Speaker'],\n",
       " ['paragraph', '$89.99'],\n",
       " ['paragraph', 'Available colors: Grey, Black'],\n",
       " ['paragraph', 'Smart Watch'],\n",
       " ['paragraph', '$149.99'],\n",
       " ['paragraph', 'Available colors: Black, Silver, Gold'],\n",
       " ['paragraph', '© 2024 Web Scraping Practice. All Rights Reserved.']]"
      ]
     },
     "execution_count": 10,
     "metadata": {},
     "output_type": "execute_result"
    }
   ],
   "source": [
    "data"
   ]
  },
  {
   "cell_type": "code",
   "execution_count": 11,
   "metadata": {},
   "outputs": [],
   "source": [
    "for list in soup.find_all('li'):\n",
    "    data.append(['list',list.get_text(strip=True)])"
   ]
  },
  {
   "cell_type": "code",
   "execution_count": 12,
   "metadata": {},
   "outputs": [
    {
     "data": {
      "text/plain": [
       "[['Heading', 'Web Scraping Practice'],\n",
       " ['Heading', 'Available Products'],\n",
       " ['Heading', 'Product Table'],\n",
       " ['Heading', 'Watch This Video'],\n",
       " ['Heading', 'Contact Us'],\n",
       " ['Heading', 'Product Information'],\n",
       " ['Heading', 'Featured Products'],\n",
       " ['paragraph',\n",
       "  'Welcome to the web scraping task! Use your skills to extract the required data from this page.'],\n",
       " ['paragraph', 'Sharp Objects'],\n",
       " ['paragraph', '£47.82'],\n",
       " ['paragraph', '✔ In stock'],\n",
       " ['paragraph', 'In a Dark, Dark Wood'],\n",
       " ['paragraph', '£19.63'],\n",
       " ['paragraph', '✔ In stock'],\n",
       " ['paragraph', 'The Past Never Ends'],\n",
       " ['paragraph', '£56.50'],\n",
       " ['paragraph', '✔ In stock'],\n",
       " ['paragraph', 'A Murder in Time'],\n",
       " ['paragraph', '£16.64'],\n",
       " ['paragraph', 'Out stock'],\n",
       " ['paragraph', 'Wireless Headphones'],\n",
       " ['paragraph', '$49.99'],\n",
       " ['paragraph', 'Available colors: Black, White, Blue'],\n",
       " ['paragraph', 'Smart Speaker'],\n",
       " ['paragraph', '$89.99'],\n",
       " ['paragraph', 'Available colors: Grey, Black'],\n",
       " ['paragraph', 'Smart Watch'],\n",
       " ['paragraph', '$149.99'],\n",
       " ['paragraph', 'Available colors: Black, Silver, Gold'],\n",
       " ['paragraph', '© 2024 Web Scraping Practice. All Rights Reserved.'],\n",
       " ['list', 'Laptop'],\n",
       " ['list', 'Smartphone'],\n",
       " ['list', 'Tablet'],\n",
       " ['list', 'Smartwatch']]"
      ]
     },
     "execution_count": 12,
     "metadata": {},
     "output_type": "execute_result"
    }
   ],
   "source": [
    "data"
   ]
  },
  {
   "cell_type": "code",
   "execution_count": 13,
   "metadata": {},
   "outputs": [],
   "source": [
    "filename= 'Extract_Text_Data.csv'"
   ]
  },
  {
   "cell_type": "code",
   "execution_count": 14,
   "metadata": {},
   "outputs": [],
   "source": [
    "with open(filename, mode=\"w\", newline=\"\", encoding=\"utf-8\") as file:\n",
    "    writer = csv.writer(file)\n",
    "    writer.writerow(['Type', 'Content'])  \n",
    "    writer.writerows(data) "
   ]
  },
  {
   "cell_type": "markdown",
   "metadata": {},
   "source": [
    "2. Extract Table Data:\n",
    "Extract data from the table, including:\n",
    "Product Name.\n",
    "Price.\n",
    "Stock Status.\n",
    "Save this data into a Extract_Table_Data.CSV file.\n"
   ]
  },
  {
   "cell_type": "code",
   "execution_count": 15,
   "metadata": {},
   "outputs": [],
   "source": [
    "table=soup.find_all('table')"
   ]
  },
  {
   "cell_type": "code",
   "execution_count": 16,
   "metadata": {},
   "outputs": [
    {
     "data": {
      "text/plain": [
       "[<table>\n",
       " <tr>\n",
       " <th>Product</th>\n",
       " <th>Price</th>\n",
       " <th>In Stock</th>\n",
       " </tr>\n",
       " <tr>\n",
       " <td>Laptop</td>\n",
       " <td>$1000</td>\n",
       " <td>Yes</td>\n",
       " </tr>\n",
       " <tr>\n",
       " <td>Smartphone</td>\n",
       " <td>$800</td>\n",
       " <td>No</td>\n",
       " </tr>\n",
       " <tr>\n",
       " <td>Tablet</td>\n",
       " <td>$500</td>\n",
       " <td>Yes</td>\n",
       " </tr>\n",
       " </table>]"
      ]
     },
     "execution_count": 16,
     "metadata": {},
     "output_type": "execute_result"
    }
   ],
   "source": [
    "table"
   ]
  },
  {
   "cell_type": "code",
   "execution_count": 17,
   "metadata": {},
   "outputs": [],
   "source": [
    "data=[]\n"
   ]
  },
  {
   "cell_type": "code",
   "execution_count": 18,
   "metadata": {},
   "outputs": [],
   "source": [
    "rows=table[0].find_all('tr')\n",
    "for row in rows:\n",
    "    cols=row.find_all('td')\n",
    "    if cols:\n",
    "       data.append([col.get_text(strip=True)for col in cols])"
   ]
  },
  {
   "cell_type": "code",
   "execution_count": 19,
   "metadata": {},
   "outputs": [
    {
     "data": {
      "text/plain": [
       "[['Laptop', '$1000', 'Yes'],\n",
       " ['Smartphone', '$800', 'No'],\n",
       " ['Tablet', '$500', 'Yes']]"
      ]
     },
     "execution_count": 19,
     "metadata": {},
     "output_type": "execute_result"
    }
   ],
   "source": [
    "data"
   ]
  },
  {
   "cell_type": "code",
   "execution_count": 20,
   "metadata": {},
   "outputs": [],
   "source": [
    "filename = \"Extract_Table_Data.csv\"\n",
    "with open(filename, mode=\"w\", newline=\"\", encoding=\"utf-8\") as file:\n",
    "    writer = csv.writer(file)\n",
    "    writer.writerow(['Product Name', 'Price','Stock status'])  \n",
    "    writer.writerows(data) "
   ]
  },
  {
   "cell_type": "markdown",
   "metadata": {},
   "source": [
    " 3.Extract Product Information (Cards Section):\n",
    "Extract data from the book cards at the bottom of the page, including:\n",
    "Book Title.\n",
    "Price.\n",
    "Stock Availability.\n",
    "Button text (e.g., \"Add to basket\").\n",
    "Save the data into a  Product_Information.JSON file"
   ]
  },
  {
   "cell_type": "code",
   "execution_count": 21,
   "metadata": {},
   "outputs": [
    {
     "name": "stdout",
     "output_type": "stream",
     "text": [
      "<div style=\"text-align: center; width: 200px; border: 1px solid #ddd; padding: 10px; border-radius: 5px;\">\n",
      "<img alt=\"Sharp Objects\" src=\"book1.jpg\" style=\"width: 100%; height: auto; border-radius: 5px;\"/>\n",
      "<p><strong>Sharp Objects</strong></p>\n",
      "<p style=\"color: green;\">£47.82</p>\n",
      "<p style=\"color: green;\">✔ In stock</p>\n",
      "<button style=\"background-color: blue; color: white; border: none; padding: 10px 15px; border-radius: 5px; cursor: pointer;\">Add to basket</button>\n",
      "</div>\n",
      "<div style=\"text-align: center; width: 200px; border: 1px solid #ddd; padding: 10px; border-radius: 5px;\">\n",
      "<img alt=\"In a Dark, Dark Wood\" src=\"book2.jpg\" style=\"width: 100%; height: auto; border-radius: 5px;\"/>\n",
      "<p><strong>In a Dark, Dark Wood</strong></p>\n",
      "<p style=\"color: green;\">£19.63</p>\n",
      "<p style=\"color: green;\">✔ In stock</p>\n",
      "<button style=\"background-color: blue; color: white; border: none; padding: 10px 15px; border-radius: 5px; cursor: pointer;\">Add to basket</button>\n",
      "</div>\n",
      "<div style=\"text-align: center; width: 200px; border: 1px solid #ddd; padding: 10px; border-radius: 5px;\">\n",
      "<img alt=\"The Past Never Ends\" href=\"http://books.toscrape.com/media/cache/c0/59/c05972805aa7201171b8fc71a5b00292.jpg\" style=\"width: 100%; height: auto; border-radius: 5px;\"/>\n",
      "<p><strong>The Past Never Ends</strong></p>\n",
      "<p style=\"color: green;\">£56.50</p>\n",
      "<p style=\"color: green;\">✔ In stock</p>\n",
      "<button style=\"background-color: blue; color: white; border: none; padding: 10px 15px; border-radius: 5px; cursor: pointer;\">Add to basket</button>\n",
      "</div>\n",
      "<div style=\"text-align: center; width: 200px; border: 1px solid #ddd; padding: 10px; border-radius: 5px;\">\n",
      "<img alt=\"A Murder in Time\" src=\"book4.jpg\" style=\"width: 100%; height: auto; border-radius: 5px;\"/>\n",
      "<p><strong>A Murder in Time</strong></p>\n",
      "<p style=\"color: green;\">£16.64</p>\n",
      "<p style=\"color: green;\"> Out stock</p>\n",
      "<button style=\"background-color: blue; color: white; border: none; padding: 10px 15px; border-radius: 5px; cursor: pointer;\">Add to basket</button>\n",
      "</div>\n"
     ]
    }
   ],
   "source": [
    "for div in soup.find_all('div', style=lambda value: value and \"border: 1px solid\" in value and \"width: 200px\" in value):\n",
    "    print(div)\n"
   ]
  },
  {
   "cell_type": "code",
   "execution_count": 22,
   "metadata": {},
   "outputs": [],
   "source": [
    "all_divs=soup.find_all('div', style=lambda value: value and \"border: 1px solid\" in value and \"width: 200px\" in value)\n"
   ]
  },
  {
   "cell_type": "code",
   "execution_count": 23,
   "metadata": {},
   "outputs": [],
   "source": [
    "books=[]\n",
    "for div in all_divs:\n",
    "    book_title=div.find('p').find('strong').text.strip()\n",
    "    price=div.find_all('p')[1].text.strip()\n",
    "    stock_avialability=div.find_all('p')[2].text.strip()\n",
    "    button_text=div.find('button').text.strip()\n",
    "    books.append({\"title\":book_title,\n",
    "                  \"price\":price,\n",
    "                  \"stock_avialability\":stock_avialability,\n",
    "                  \"button_text\":button_text})\n"
   ]
  },
  {
   "cell_type": "code",
   "execution_count": 24,
   "metadata": {},
   "outputs": [
    {
     "name": "stdout",
     "output_type": "stream",
     "text": [
      "[{'title': 'Sharp Objects', 'price': '£47.82', 'stock_avialability': '✔ In stock', 'button_text': 'Add to basket'}, {'title': 'In a Dark, Dark Wood', 'price': '£19.63', 'stock_avialability': '✔ In stock', 'button_text': 'Add to basket'}, {'title': 'The Past Never Ends', 'price': '£56.50', 'stock_avialability': '✔ In stock', 'button_text': 'Add to basket'}, {'title': 'A Murder in Time', 'price': '£16.64', 'stock_avialability': 'Out stock', 'button_text': 'Add to basket'}]\n"
     ]
    }
   ],
   "source": [
    "print(books)"
   ]
  },
  {
   "cell_type": "code",
   "execution_count": 25,
   "metadata": {},
   "outputs": [],
   "source": [
    "import json"
   ]
  },
  {
   "cell_type": "code",
   "execution_count": 46,
   "metadata": {},
   "outputs": [],
   "source": [
    "with open(\"product_Information.json\", \"w\") as json_file:  \n",
    "                                                          #json.dump: يستخدم للتصدير إلى ملف.\n",
    "    json.dump(books, json_file, indent=4)"
   ]
  },
  {
   "cell_type": "markdown",
   "metadata": {},
   "source": [
    "4. Extract Form Details:\n",
    "Extract all input fields from the form, including:\n",
    "Field name (e.g., username, password).\n",
    "Input type (e.g., text, password, checkbox, etc.).\n",
    "Default values, if any.\n",
    "Save the data into a  JSON file."
   ]
  },
  {
   "cell_type": "code",
   "execution_count": 37,
   "metadata": {},
   "outputs": [
    {
     "data": {
      "text/plain": [
       "[<input id=\"username\" name=\"username\" placeholder=\"Enter your username\" type=\"text\"/>,\n",
       " <input id=\"password\" name=\"password\" placeholder=\"Enter your password\" type=\"password\"/>,\n",
       " <input name=\"terms\" type=\"checkbox\"/>,\n",
       " <input type=\"submit\" value=\"Submit\"/>]"
      ]
     },
     "execution_count": 37,
     "metadata": {},
     "output_type": "execute_result"
    }
   ],
   "source": [
    "inputs=soup.find_all('input')\n",
    "inputs"
   ]
  },
  {
   "cell_type": "code",
   "execution_count": 38,
   "metadata": {},
   "outputs": [],
   "source": [
    "form_details=[]\n",
    "for i in inputs:\n",
    "    field_name=i.get(\"name\")\n",
    "    input_type=i.get(\"type\")\n",
    "    default_value=i.get(\"value\")\n",
    "    form_details.append(\n",
    "        {\"Field Name\": field_name,\n",
    "        \"Input Type\": input_type,\n",
    "        \"Default Value\": default_value}\n",
    "        )\n"
   ]
  },
  {
   "cell_type": "code",
   "execution_count": 42,
   "metadata": {},
   "outputs": [
    {
     "data": {
      "text/plain": [
       "[{'Field Name': 'username', 'Input Type': 'text', 'Default Value': None},\n",
       " {'Field Name': 'password', 'Input Type': 'password', 'Default Value': None},\n",
       " {'Field Name': 'terms', 'Input Type': 'checkbox', 'Default Value': None},\n",
       " {'Field Name': None, 'Input Type': 'submit', 'Default Value': 'Submit'}]"
      ]
     },
     "execution_count": 42,
     "metadata": {},
     "output_type": "execute_result"
    }
   ],
   "source": [
    "form_details"
   ]
  },
  {
   "cell_type": "code",
   "execution_count": 43,
   "metadata": {},
   "outputs": [],
   "source": [
    "with open(\"form_details.json\",\"w\") as json_file:\n",
    "    json.dump(form_details,json_file,indent=4)"
   ]
  },
  {
   "cell_type": "code",
   "execution_count": null,
   "metadata": {},
   "outputs": [],
   "source": []
  }
 ],
 "metadata": {
  "kernelspec": {
   "display_name": "Python 3",
   "language": "python",
   "name": "python3"
  },
  "language_info": {
   "codemirror_mode": {
    "name": "ipython",
    "version": 3
   },
   "file_extension": ".py",
   "mimetype": "text/x-python",
   "name": "python",
   "nbconvert_exporter": "python",
   "pygments_lexer": "ipython3",
   "version": "3.12.0"
  }
 },
 "nbformat": 4,
 "nbformat_minor": 2
}
